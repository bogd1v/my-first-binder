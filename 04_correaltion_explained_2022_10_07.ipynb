{
  "nbformat": 4,
  "nbformat_minor": 0,
  "metadata": {
    "colab": {
      "provenance": []
    },
    "kernelspec": {
      "name": "python3",
      "display_name": "Python 3"
    },
    "language_info": {
      "name": "python"
    }
  },
  "cells": [
    {
      "cell_type": "markdown",
      "source": [
        "Example of data samples x and y which can be differently correlated.\n",
        "\n",
        "# ![py-corr-1.webp](data:image/webp;base64,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)"
      ],
      "metadata": {
        "id": "mPPbwxKBbrYY"
      }
    },
    {
      "cell_type": "code",
      "execution_count": 10,
      "metadata": {
        "id": "pQNfDo4oXwDk",
        "colab": {
          "base_uri": "https://localhost:8080/"
        },
        "outputId": "a4a1fdb1-fd28-4e91-a051-9a3c6bd4c77e"
      },
      "outputs": [
        {
          "output_type": "stream",
          "name": "stdout",
          "text": [
            "Looking in indexes: https://pypi.org/simple, https://us-python.pkg.dev/colab-wheels/public/simple/\n",
            "Collecting watermark\n",
            "  Downloading watermark-2.3.1-py2.py3-none-any.whl (7.2 kB)\n",
            "Requirement already satisfied: ipython in /usr/local/lib/python3.8/dist-packages (from watermark) (7.9.0)\n",
            "Requirement already satisfied: setuptools>=18.5 in /usr/local/lib/python3.8/dist-packages (from ipython->watermark) (57.4.0)\n",
            "Requirement already satisfied: prompt-toolkit<2.1.0,>=2.0.0 in /usr/local/lib/python3.8/dist-packages (from ipython->watermark) (2.0.10)\n",
            "Requirement already satisfied: traitlets>=4.2 in /usr/local/lib/python3.8/dist-packages (from ipython->watermark) (5.7.1)\n",
            "Requirement already satisfied: pexpect in /usr/local/lib/python3.8/dist-packages (from ipython->watermark) (4.8.0)\n",
            "Collecting jedi>=0.10\n",
            "  Downloading jedi-0.18.2-py2.py3-none-any.whl (1.6 MB)\n",
            "\u001b[2K     \u001b[90m━━━━━━━━━━━━━━━━━━━━━━━━━━━━━━━━━━━━━━━━\u001b[0m \u001b[32m1.6/1.6 MB\u001b[0m \u001b[31m21.5 MB/s\u001b[0m eta \u001b[36m0:00:00\u001b[0m\n",
            "\u001b[?25hRequirement already satisfied: backcall in /usr/local/lib/python3.8/dist-packages (from ipython->watermark) (0.2.0)\n",
            "Requirement already satisfied: pickleshare in /usr/local/lib/python3.8/dist-packages (from ipython->watermark) (0.7.5)\n",
            "Requirement already satisfied: pygments in /usr/local/lib/python3.8/dist-packages (from ipython->watermark) (2.6.1)\n",
            "Requirement already satisfied: decorator in /usr/local/lib/python3.8/dist-packages (from ipython->watermark) (4.4.2)\n",
            "Requirement already satisfied: parso<0.9.0,>=0.8.0 in /usr/local/lib/python3.8/dist-packages (from jedi>=0.10->ipython->watermark) (0.8.3)\n",
            "Requirement already satisfied: six>=1.9.0 in /usr/local/lib/python3.8/dist-packages (from prompt-toolkit<2.1.0,>=2.0.0->ipython->watermark) (1.15.0)\n",
            "Requirement already satisfied: wcwidth in /usr/local/lib/python3.8/dist-packages (from prompt-toolkit<2.1.0,>=2.0.0->ipython->watermark) (0.2.5)\n",
            "Requirement already satisfied: ptyprocess>=0.5 in /usr/local/lib/python3.8/dist-packages (from pexpect->ipython->watermark) (0.7.0)\n",
            "Installing collected packages: jedi, watermark\n",
            "Successfully installed jedi-0.18.2 watermark-2.3.1\n"
          ]
        }
      ],
      "source": [
        "#import necessary libraries\n",
        "import numpy as np\n",
        "import matplotlib.pyplot as plt\n",
        "from scipy.stats.stats import pearsonr\n",
        "!pip install watermark\n",
        "from watermark import watermark"
      ]
    },
    {
      "cell_type": "code",
      "source": [
        "%load_ext watermark\n",
        "\n",
        "# python, ipython, packages, and machine characteristics\n",
        "%watermark -v -m -p numpy,matplotlib,scipy,watermark \n",
        "\n",
        "# date\n",
        "print (\" \")\n",
        "%watermark -u -n -t -z "
      ],
      "metadata": {
        "colab": {
          "base_uri": "https://localhost:8080/"
        },
        "id": "jcwhS9BmYKwQ",
        "outputId": "c2b0d975-ac76-44ea-e944-e154f28272e9"
      },
      "execution_count": 11,
      "outputs": [
        {
          "output_type": "stream",
          "name": "stdout",
          "text": [
            "Python implementation: CPython\n",
            "Python version       : 3.8.10\n",
            "IPython version      : 7.9.0\n",
            "\n",
            "numpy     : 1.21.6\n",
            "matplotlib: 3.2.2\n",
            "scipy     : 1.7.3\n",
            "watermark : 2.3.1\n",
            "\n",
            "Compiler    : GCC 9.4.0\n",
            "OS          : Linux\n",
            "Release     : 5.10.147+\n",
            "Machine     : x86_64\n",
            "Processor   : x86_64\n",
            "CPU cores   : 2\n",
            "Architecture: 64bit\n",
            "\n",
            " \n",
            "Last updated: Tue Jan 24 2023 15:32:19UTC\n",
            "\n"
          ]
        }
      ]
    },
    {
      "cell_type": "code",
      "source": [
        "# prepare data\n",
        "data1 = np.random.randn(100)*5+170 # randomly generated data array (to simulate hight variations in different people)\n",
        "data2 = (data1-100)+np.random.randn(100)*7 # second data array, RELATED to data1 is made of data1 with added random variation (to simulate the variations in body weight)\n",
        "fig, axs = plt.subplots(nrows=2, figsize=(12, 6))\n",
        "axs[0].plot(data1);\n",
        "axs[0].set_ylabel(\"height, cm\", fontsize=14);\n",
        "axs[1].plot(data2);\n",
        "axs[1].set_ylabel(\"weight, kg\", fontsize=14);"
      ],
      "metadata": {
        "id": "c0ayshTkX8Ot"
      },
      "execution_count": null,
      "outputs": []
    },
    {
      "cell_type": "code",
      "source": [
        "# calulate correaltion and significance level (postivie correaltion p is expected and high significnace (p<0.05)\n",
        "r = pearsonr(data1, data2)\n",
        "print(f\"r = {round(r[0], 3)}\")\n",
        "print(f\"p = {round(r[1], 3)}\")"
      ],
      "metadata": {
        "id": "Z8SnNvZVYRTY"
      },
      "execution_count": null,
      "outputs": []
    },
    {
      "cell_type": "code",
      "source": [
        "# plot the data and the linear regression line\n",
        "plt.scatter(data1, data2)\n",
        "p, cov = np.polyfit(data1, data2, 1, cov=True)  # coefficients and covariance matrix\n",
        "print(f\"slope: {p[0]}\")\n",
        "print(f\"intercept: {p[1]}\")\n",
        "yfit = data1*p[0]+p[1]\n",
        "plt.plot(data1, yfit, 'r', linewidth=3, color=[1, 0, 0, .5])\n",
        "plt.xlabel(\"height, cm\", fontsize=14)\n",
        "plt.ylabel(\"weight, kg\", fontsize=14)\n",
        "plt.show()"
      ],
      "metadata": {
        "id": "txKrAvS5YCOz"
      },
      "execution_count": null,
      "outputs": []
    },
    {
      "cell_type": "code",
      "source": [
        "# prepare more data\n",
        "data3 = (np.random.randn(100)+3)*5  # this time it is random value UNRELATED to the previous data-sets (data1 or data2).\n",
        "# for xample it can be the amount of cash money in the pocket of random people on the street  "
      ],
      "metadata": {
        "id": "aqQ8W3fp_83C"
      },
      "execution_count": null,
      "outputs": []
    },
    {
      "cell_type": "code",
      "source": [
        "# calulate correaltion and significance level (expected t be unrelated p near to zero and p > 0.05)\n",
        "r = pearsonr(data1, data3)\n",
        "print(f\"r = {round(r[0], 3)}\")\n",
        "print(f\"p = {round(r[1], 3)}\")"
      ],
      "metadata": {
        "id": "7xrC0aKLBAKa"
      },
      "execution_count": null,
      "outputs": []
    },
    {
      "cell_type": "code",
      "source": [
        "import numpy as np\n",
        "import matplotlib.pyplot as plt\n",
        "\n",
        "# plot the data and the linear regression line\n",
        "plt.scatter(data1, data3)\n",
        "plt.xlabel(\"height, cm\", fontsize=14)\n",
        "plt.ylabel(\"money, Euro\", fontsize=14)\n",
        "\n",
        "p, cov = np.polyfit(data1, data3, 1, cov=True);  # coefficients and covariance matrix\n",
        "print(f\"slope: {p[0]}\");\n",
        "print(f\"intercept: {p[1]}\");\n",
        "yfit = data1*p[0]+p[1];\n",
        "plt.plot(data1, yfit, 'r', linewidth=3, color=[1, 0, 0, .5]);\n",
        "plt.show();"
      ],
      "metadata": {
        "id": "J8Ev5HJXBFUB"
      },
      "execution_count": null,
      "outputs": []
    }
  ]
}